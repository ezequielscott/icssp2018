{
 "cells": [
  {
   "cell_type": "markdown",
   "metadata": {},
   "source": [
    "# Reading the dataset\n",
    "\n",
    "First, make sure you have:\n",
    "* A MongoDB server already installed.\n",
    "* A dump of the dataset loaded as a collection\n",
    "* The MongoDB server running.\n",
    "\n",
    "\n",
    "\n",
    "1. Install MongoDB server. Choose the version according to your OS. https://www.mongodb.com/download-center?jmp=nav#community\n",
    "\n",
    "2. Unzip the mongo dump files (.json) into a directory\n",
    "\n",
    "3. Restore/import the dump from the directory by using the command: \n",
    "\n",
    "\t`mongorestore -d <database_name> <directory_backup>`\n",
    "\n",
    "NOTE:\n",
    "The data dump was done using:\n",
    "\t`mongodump -d <database_name> -o <directory_backup>`"
   ]
  },
  {
   "cell_type": "code",
   "execution_count": 1,
   "metadata": {
    "collapsed": true
   },
   "outputs": [],
   "source": [
    "import pandas as pd\n",
    "from pymongo import MongoClient\n",
    "\n",
    "from bson import json_util, ObjectId\n",
    "from pandas.io.json import json_normalize\n",
    "import json\n",
    "\n",
    "def _connect_mongo(host, port, username, password, db):\n",
    "    \"\"\" A util for making a connection to mongo \"\"\"\n",
    "\n",
    "    if username and password:\n",
    "        mongo_uri = 'mongodb://%s:%s@%s:%s/%s' % (username, password, host, port, db)\n",
    "        conn = MongoClient(mongo_uri)\n",
    "    else:\n",
    "        conn = MongoClient(host, port)\n",
    "    return conn[db]\n",
    "\n",
    "\n",
    "def read_mongo(db, collection, query={}, host='localhost', port=27017, username=None, password=None, no_id=True):\n",
    "    \"\"\" Read from Mongo and Store into DataFrame \"\"\"\n",
    "\n",
    "    # Connect to MongoDB\n",
    "    db = _connect_mongo(host=host, port=port, username=username, password=password, db=db)\n",
    "\n",
    "    # Make a query to the specific DB and Collection\n",
    "    cursor = db[collection].find(query)\n",
    "    \n",
    "    sanitized = json.loads(json_util.dumps(list(cursor)))\n",
    "    normalized = json_normalize(sanitized)\n",
    "    \n",
    "    # Expand the cursor and construct the DataFrame\n",
    "    df =  pd.DataFrame(normalized)\n",
    "    \n",
    "    # Delete the _id\n",
    "    if no_id:\n",
    "        del df['_id.$oid']\n",
    "\n",
    "    #sf = gl.SFrame(df)\n",
    "    return df"
   ]
  },
  {
   "cell_type": "markdown",
   "metadata": {},
   "source": [
    "# Getting the data in csv format"
   ]
  },
  {
   "cell_type": "code",
   "execution_count": 2,
   "metadata": {
    "collapsed": false
   },
   "outputs": [],
   "source": [
    "project_names = ['xd', 'dnn', 'apstud', 'mesos', 'mule', 'nexus', 'timob', 'tistud' ]\n",
    "project_data = {}\n",
    "\n",
    "# reading from the db\n",
    "for p in project_names:\n",
    "    project_data[p] = read_mongo('jira', p)"
   ]
  },
  {
   "cell_type": "code",
   "execution_count": 16,
   "metadata": {
    "collapsed": false
   },
   "outputs": [
    {
     "name": "stdout",
     "output_type": "stream",
     "text": [
      "Processing project xd of shape (3691, 154) ...\n",
      "Processing project dnn of shape (1894, 237) ...\n",
      "Processing project apstud of shape (886, 157) ...\n",
      "Processing project mesos of shape (1472, 172) ...\n",
      "Processing project mule of shape (1281, 220) ...\n",
      "Processing project nexus of shape (1071, 158) ...\n",
      "Processing project timob of shape (1990, 180) ...\n",
      "Processing project tistud of shape (2870, 168) ...\n",
      "Done.\n"
     ]
    }
   ],
   "source": [
    "all_projects = pd.DataFrame()\n",
    "for p in project_names:\n",
    "    df = project_data[p]\n",
    "    \n",
    "    print \"Processing project {0} of shape {1} ...\".format(p, df.shape)\n",
    "    \n",
    "    df0 = df[[\n",
    "     'fields.assignee.name',\n",
    "     'fields.components',\n",
    "     'fields.created',\n",
    "     'fields.creator.name',\n",
    "     'fields.description', # User Story description\n",
    "     'fields.fixVersions',\n",
    "     'fields.issuetype.name', \n",
    "     'fields.issuetype.subtask', # true, false\n",
    "     'fields.priority.name', # Minor, Major, Critical, Blocker\n",
    "     'fields.reporter.name',\n",
    "     'fields.resolution.description',\n",
    "     'fields.resolution.name',\n",
    "     'fields.resolutiondate',\n",
    "     'fields.status.id',\n",
    "     'fields.status.name',\n",
    "     'fields.status.statusCategory.name',\n",
    "     'fields.summary',\n",
    "     'fields.updated',\n",
    "     'fields.versions',\n",
    "     'fields.watches.watchCount',\n",
    "     u'key',\n",
    "    ]].copy()\n",
    "    \n",
    "    # List of fields where the story points are stored:\n",
    "    storypoints_fields = {\n",
    "        'apstud':'customfield_10003',\n",
    "        'dnn': 'customfield_10004',\n",
    "        'mesos':'customfield_12310293',\n",
    "        'mule':'customfield_10203',\n",
    "        'timob':'customfield_10003',\n",
    "        'tistud':'customfield_10003',\n",
    "        'xd':'customfield_10142',\n",
    "        'nexus': 'customfield_10132'\n",
    "    }\n",
    "    \n",
    "    df0['storypoints'] = df[ 'fields.' + storypoints_fields[p] ]\n",
    "    \n",
    "    df0['project'] = p\n",
    "    \n",
    "    # transform components from json objet to list of string\n",
    "    df0['fields.components'] = df0['fields.components'].apply(lambda x : [ v['name'] for v in x if v != [] ] )\n",
    "    df0['fields.versions'] = df0['fields.versions'].apply(lambda x : [ v['name'] for v in x if v != [] ] )\n",
    "    df0['fields.fixVersions'] = df0['fields.fixVersions'].apply(lambda x : [ v['name'] for v in x if v != [] ] )\n",
    "  \n",
    "    all_projects = all_projects.append(df0, ignore_index=True)\n",
    "\n",
    "print \"Done.\""
   ]
  },
  {
   "cell_type": "code",
   "execution_count": 11,
   "metadata": {
    "collapsed": true
   },
   "outputs": [],
   "source": [
    "all_projects.to_csv(\"jiradataset_issues.csv\", sep=',', encoding='utf-8', doublequote = True, index=False)"
   ]
  },
  {
   "cell_type": "code",
   "execution_count": 12,
   "metadata": {
    "collapsed": false
   },
   "outputs": [],
   "source": [
    "import pandas as pd\n",
    "all_projects = pd.read_csv(\"jiradataset_issues.csv\")"
   ]
  },
  {
   "cell_type": "markdown",
   "metadata": {},
   "source": [
    "# Getting the changelog"
   ]
  },
  {
   "cell_type": "code",
   "execution_count": 5,
   "metadata": {
    "collapsed": false
   },
   "outputs": [
    {
     "name": "stdout",
     "output_type": "stream",
     "text": [
      "Processing project xd (3691, 154) ...\n",
      "Processing project dnn (1894, 237) ...\n",
      "Processing project apstud (886, 157) ...\n",
      "Processing project mesos (1472, 172) ...\n",
      "Processing project mule (1281, 220) ...\n",
      "Processing project nexus (1071, 158) ...\n",
      "Processing project timob (1990, 180) ...\n",
      "Processing project tistud (2870, 168) ...\n"
     ]
    }
   ],
   "source": [
    "import numpy as np\n",
    "\n",
    "all_changelogs = pd.DataFrame()\n",
    "for p in project_names:\n",
    "    df = project_data[p]\n",
    "    print \"Processing project {0} {1} ...\".format(p, df.shape)\n",
    "    for i, h in df.iterrows():\n",
    "        #print i\n",
    "        key = df['key']\n",
    "        #print h['changelog.histories']\n",
    "        ch = json_normalize(data=h['changelog.histories'], record_path=['items'], meta=['created', 'author'], errors='ignore')\n",
    "        \n",
    "        if not ch.empty:\n",
    "            ch['author'] = ch['author'].apply(lambda x : x['name'] if isinstance(x,dict) else x)\n",
    "            ch['key'] = key\n",
    "            all_changelogs = all_changelogs.append(ch, ignore_index=True)\n",
    "print 'Done.'"
   ]
  },
  {
   "cell_type": "code",
   "execution_count": 7,
   "metadata": {
    "collapsed": false
   },
   "outputs": [
    {
     "data": {
      "text/html": [
       "<div>\n",
       "<style scoped>\n",
       "    .dataframe tbody tr th:only-of-type {\n",
       "        vertical-align: middle;\n",
       "    }\n",
       "\n",
       "    .dataframe tbody tr th {\n",
       "        vertical-align: top;\n",
       "    }\n",
       "\n",
       "    .dataframe thead th {\n",
       "        text-align: right;\n",
       "    }\n",
       "</style>\n",
       "<table border=\"1\" class=\"dataframe\">\n",
       "  <thead>\n",
       "    <tr style=\"text-align: right;\">\n",
       "      <th></th>\n",
       "      <th>field</th>\n",
       "      <th>fieldtype</th>\n",
       "      <th>from</th>\n",
       "      <th>fromString</th>\n",
       "      <th>to</th>\n",
       "      <th>toString</th>\n",
       "      <th>author</th>\n",
       "      <th>created</th>\n",
       "      <th>key</th>\n",
       "    </tr>\n",
       "  </thead>\n",
       "  <tbody>\n",
       "    <tr>\n",
       "      <th>0</th>\n",
       "      <td>status</td>\n",
       "      <td>jira</td>\n",
       "      <td>10000</td>\n",
       "      <td>To Do</td>\n",
       "      <td>3</td>\n",
       "      <td>In Progress</td>\n",
       "      <td>jvalkeal</td>\n",
       "      <td>2016-03-03T18:40:53.171+0000</td>\n",
       "      <td>XD-3753</td>\n",
       "    </tr>\n",
       "    <tr>\n",
       "      <th>1</th>\n",
       "      <td>Pull Request URL</td>\n",
       "      <td>custom</td>\n",
       "      <td>None</td>\n",
       "      <td>None</td>\n",
       "      <td>None</td>\n",
       "      <td>https://github.com/spring-projects/spring-xd/p...</td>\n",
       "      <td>jvalkeal</td>\n",
       "      <td>2016-03-03T18:41:19.429+0000</td>\n",
       "      <td>XD-3752</td>\n",
       "    </tr>\n",
       "    <tr>\n",
       "      <th>2</th>\n",
       "      <td>status</td>\n",
       "      <td>jira</td>\n",
       "      <td>3</td>\n",
       "      <td>In Progress</td>\n",
       "      <td>10006</td>\n",
       "      <td>In PR</td>\n",
       "      <td>jvalkeal</td>\n",
       "      <td>2016-03-03T18:41:19.429+0000</td>\n",
       "      <td>XD-3751</td>\n",
       "    </tr>\n",
       "    <tr>\n",
       "      <th>3</th>\n",
       "      <td>summary</td>\n",
       "      <td>jira</td>\n",
       "      <td>None</td>\n",
       "      <td>Can completely remove module after putting pro...</td>\n",
       "      <td>None</td>\n",
       "      <td>Can completely remove custom module after putt...</td>\n",
       "      <td>aliiqbal</td>\n",
       "      <td>2016-02-29T10:00:55.086+0000</td>\n",
       "      <td>XD-3753</td>\n",
       "    </tr>\n",
       "    <tr>\n",
       "      <th>4</th>\n",
       "      <td>issuetype</td>\n",
       "      <td>jira</td>\n",
       "      <td>8</td>\n",
       "      <td>Story</td>\n",
       "      <td>1</td>\n",
       "      <td>Bug</td>\n",
       "      <td>aliiqbal</td>\n",
       "      <td>2016-02-29T10:01:41.067+0000</td>\n",
       "      <td>XD-3752</td>\n",
       "    </tr>\n",
       "  </tbody>\n",
       "</table>\n",
       "</div>"
      ],
      "text/plain": [
       "              field fieldtype   from  \\\n",
       "0            status      jira  10000   \n",
       "1  Pull Request URL    custom   None   \n",
       "2            status      jira      3   \n",
       "3           summary      jira   None   \n",
       "4         issuetype      jira      8   \n",
       "\n",
       "                                          fromString     to  \\\n",
       "0                                              To Do      3   \n",
       "1                                               None   None   \n",
       "2                                        In Progress  10006   \n",
       "3  Can completely remove module after putting pro...   None   \n",
       "4                                              Story      1   \n",
       "\n",
       "                                            toString    author  \\\n",
       "0                                        In Progress  jvalkeal   \n",
       "1  https://github.com/spring-projects/spring-xd/p...  jvalkeal   \n",
       "2                                              In PR  jvalkeal   \n",
       "3  Can completely remove custom module after putt...  aliiqbal   \n",
       "4                                                Bug  aliiqbal   \n",
       "\n",
       "                        created      key  \n",
       "0  2016-03-03T18:40:53.171+0000  XD-3753  \n",
       "1  2016-03-03T18:41:19.429+0000  XD-3752  \n",
       "2  2016-03-03T18:41:19.429+0000  XD-3751  \n",
       "3  2016-02-29T10:00:55.086+0000  XD-3753  \n",
       "4  2016-02-29T10:01:41.067+0000  XD-3752  "
      ]
     },
     "execution_count": 7,
     "metadata": {},
     "output_type": "execute_result"
    }
   ],
   "source": [
    "all_changelogs.head()"
   ]
  },
  {
   "cell_type": "code",
   "execution_count": 8,
   "metadata": {
    "collapsed": true
   },
   "outputs": [],
   "source": [
    "all_changelogs.to_csv(\"jiradataset_changelog.csv\", sep=',', encoding='utf-8', doublequote = True, index=False)"
   ]
  },
  {
   "cell_type": "markdown",
   "metadata": {},
   "source": [
    "# Getting developer info"
   ]
  },
  {
   "cell_type": "code",
   "execution_count": null,
   "metadata": {
    "collapsed": true
   },
   "outputs": [],
   "source": [
    "project_names = ['xd', 'dnn', 'apstud', 'mesos', 'mule', 'nexus', 'timob', 'tistud' ]\n",
    "\n",
    "allnames = pd.DataFrame()\n",
    "\n",
    "for p in project_names:\n",
    "    dataset = project_data[p]\n",
    "\n",
    "    # assignees \n",
    "    assignee_name = {\n",
    "        \"name\" : dataset['fields.assignee.name'],\n",
    "        \"displayName\" : dataset['fields.assignee.displayName'],\n",
    "        \"emailAddress\" : dataset['fields.assignee.emailAddress'] if 'fields.assignee.emailAddress' in dataset.columns else '',\n",
    "        \"timeZone\" : dataset['fields.assignee.timeZone' ] if 'fields.assignee.timeZone' in dataset.columns else '',\n",
    "    }\n",
    "    assignee_name['project'] = p\n",
    "    assignee_name['role'] = \"assignee\"\n",
    "    \n",
    "    aname = pd.DataFrame(assignee_name).drop_duplicates()\n",
    "    \n",
    "    # get all the creators\n",
    "    creator_name = {\n",
    "    \"name\": dataset['fields.creator.name'] ,\n",
    "    \"displayName\": dataset['fields.creator.displayName'],\n",
    "    \"emailAddress\" : dataset['fields.creator.emailAddress'] if 'fields.creator.emailAddress' in dataset.columns else '',\n",
    "    \"timeZone\" : dataset['fields.creator.timeZone'] if 'fields.creator.timeZone' in dataset.columns else ''     \n",
    "    }\n",
    "    creator_name['project'] = p\n",
    "    creator_name['role'] = \"creator\"\n",
    "    \n",
    "    cname = pd.DataFrame(creator_name).drop_duplicates()\n",
    "    \n",
    "    # get all the reporters\n",
    "    reporter_name = {\n",
    "    \"name\": dataset['fields.reporter.name'] ,\n",
    "    \"displayName\": dataset['fields.reporter.displayName'],\n",
    "    \"emailAddress\" : dataset['fields.reporter.emailAddress'] if 'fields.reporter.emailAddress' in dataset.columns else '',\n",
    "    \"timeZone\" : dataset['fields.reporter.timeZone'] if 'fields.reporter.timeZone' in dataset.columns else ''     \n",
    "    }\n",
    "    reporter_name['project'] = p\n",
    "    reporter_name['role'] = \"reporter\"\n",
    "    \n",
    "    rname = pd.DataFrame(reporter_name).drop_duplicates()\n",
    "    \n",
    "    allnames = pd.concat([allnames, aname, cname, rname])\n",
    "\n",
    "print len(allnames)\n",
    "allnames.head()"
   ]
  }
 ],
 "metadata": {
  "kernelspec": {
   "display_name": "Python 2",
   "language": "python",
   "name": "python2"
  },
  "language_info": {
   "codemirror_mode": {
    "name": "ipython",
    "version": 2
   },
   "file_extension": ".py",
   "mimetype": "text/x-python",
   "name": "python",
   "nbconvert_exporter": "python",
   "pygments_lexer": "ipython2",
   "version": "2.7.11"
  }
 },
 "nbformat": 4,
 "nbformat_minor": 2
}
